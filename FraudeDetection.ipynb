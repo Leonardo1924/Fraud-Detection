{
 "cells": [
  {
   "cell_type": "markdown",
   "metadata": {},
   "source": [
    "# Credit Card Fraud Detection"
   ]
  },
  {
   "cell_type": "markdown",
   "metadata": {},
   "source": [
    "![alt text](Images/capa.png)"
   ]
  },
  {
   "cell_type": "markdown",
   "metadata": {},
   "source": [
    "## Introduction"
   ]
  },
  {
   "cell_type": "markdown",
   "metadata": {},
   "source": [
    "With the advancement of Internet and the populatization of smartphones, more people use their credit cards to make purchases in online stores, and applications.\n",
    "\n",
    "In a scenario like this, it is unfortunalety to be expected that some malicious people will look for ways to defraud credit cards and make purchases in the name and with money of other people.\n",
    "\n",
    "To prevent customers from being charged for purchases that were not made by them, it is very important that banks and credit card companies are able to recognize when a given transaction is the result of fraud or not.\n",
    "\n",
    "In this project, I will use machine learning algorithms to train a predictive model that is capable of learning and detecting when a transaction is fraudulent or not. I will use the XGboost, Random Forest and Support Vector Machine and see which of these algorithms best fits our data set and produces the best result according to the model evaluation metrics."
   ]
  },
  {
   "cell_type": "markdown",
   "metadata": {},
   "source": [
    "## Dataset Overview:"
   ]
  },
  {
   "cell_type": "markdown",
   "metadata": {},
   "source": [
    "The dataset contains **30,000 rows** and **25 columns**, comprising a mix of transaction, customer, and merchant details. It is primarily intended for fraud detection analysis, leveraging features like transaction timestamps, geographic data, demographic information, and other transaction-related attributes.\n",
    "\n",
    "\n",
    "## Key Columns:\n",
    "1. `trans_date_trans_time`: Timestamp of the transaction (requires parsing for date and time-related features).\n",
    "2. `cc_num`: Credit card number (potential anonymized identifier).\n",
    "3. `device_os`: Operating system of the transaction device (has missing values).\n",
    "4. `merchant`: Merchant identifier.\n",
    "5. `amt`: Transaction amount.\n",
    "6. `is_fraud`: Binary label indicating if the transaction was fraudulent (target variable for detection).\n",
    "\n",
    "## Supporting Columns:\n"
   ]
  }
 ],
 "metadata": {
  "kernelspec": {
   "display_name": "Python 3",
   "language": "python",
   "name": "python3"
  },
  "language_info": {
   "codemirror_mode": "r",
   "file_extension": ".r",
   "mimetype": "text/x-r-source",
   "name": "python",
   "pygments_lexer": "r",
   "version": "3.12.7"
  }
 },
 "nbformat": 4,
 "nbformat_minor": 2
}
